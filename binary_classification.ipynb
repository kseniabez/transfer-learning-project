{
 "cells": [
  {
   "cell_type": "code",
   "id": "initial_id",
   "metadata": {
    "collapsed": true,
    "ExecuteTime": {
     "end_time": "2025-05-02T11:50:16.627531Z",
     "start_time": "2025-05-02T11:50:16.623822Z"
    }
   },
   "source": [
    "import torch\n",
    "import torch.nn as nn\n",
    "import torch.optim as optim\n",
    "from torch.utils.data import DataLoader\n",
    "from torchvision import transforms, datasets, models\n",
    "from torch.utils.data import random_split\n",
    "import os\n",
    "from tempfile import TemporaryDirectory"
   ],
   "outputs": [],
   "execution_count": 37
  },
  {
   "metadata": {
    "ExecuteTime": {
     "end_time": "2025-05-02T11:50:26.163270Z",
     "start_time": "2025-05-02T11:50:26.159291Z"
    }
   },
   "cell_type": "code",
   "source": "data_root = \"datasets\"",
   "id": "b7d07f735d6ce8d3",
   "outputs": [],
   "execution_count": 38
  },
  {
   "metadata": {
    "ExecuteTime": {
     "end_time": "2025-05-02T11:50:28.100014Z",
     "start_time": "2025-05-02T11:50:28.092453Z"
    }
   },
   "cell_type": "code",
   "source": [
    "# for ResNet18:\n",
    "transform = transforms.Compose([\n",
    "    transforms.Resize((224, 224)),\n",
    "    transforms.ToTensor(),\n",
    "    transforms.Normalize(mean=[0.485, 0.456, 0.406],\n",
    "                         std=[0.229, 0.224, 0.225]),\n",
    "])"
   ],
   "id": "d822d2ee3a2ca1aa",
   "outputs": [],
   "execution_count": 39
  },
  {
   "metadata": {
    "ExecuteTime": {
     "end_time": "2025-05-02T11:50:29.995502Z",
     "start_time": "2025-05-02T11:50:29.959823Z"
    }
   },
   "cell_type": "code",
   "source": [
    "trainval_data = datasets.OxfordIIITPet(\n",
    "        root=data_root,\n",
    "        split='trainval',\n",
    "        target_types='binary-category',\n",
    "        transform=transform,\n",
    "        download=False\n",
    "    )\n",
    "test_data = datasets.OxfordIIITPet(\n",
    "        root=data_root,\n",
    "        split='test',\n",
    "        target_types='binary-category',\n",
    "        transform=transform,\n",
    "        download=False\n",
    "    )"
   ],
   "id": "666abda14682e0ac",
   "outputs": [],
   "execution_count": 40
  },
  {
   "metadata": {
    "ExecuteTime": {
     "end_time": "2025-05-02T11:50:31.831977Z",
     "start_time": "2025-05-02T11:50:31.824990Z"
    }
   },
   "cell_type": "code",
   "source": [
    "val_ratio = 0.2  # 20% for validation\n",
    "train_size = int((1 - val_ratio) * len(trainval_data))\n",
    "val_size = len(trainval_data) - train_size\n",
    "\n",
    "train_data, val_data = random_split(trainval_data, [train_size, val_size])"
   ],
   "id": "4c91e21781a76757",
   "outputs": [],
   "execution_count": 41
  },
  {
   "metadata": {
    "ExecuteTime": {
     "end_time": "2025-05-02T11:50:34.049178Z",
     "start_time": "2025-05-02T11:50:34.043776Z"
    }
   },
   "cell_type": "code",
   "source": "len(val_data), len(train_data), len(test_data)",
   "id": "d5da3fd74362f472",
   "outputs": [
    {
     "data": {
      "text/plain": [
       "(736, 2944, 3669)"
      ]
     },
     "execution_count": 42,
     "metadata": {},
     "output_type": "execute_result"
    }
   ],
   "execution_count": 42
  },
  {
   "metadata": {
    "ExecuteTime": {
     "end_time": "2025-05-02T11:50:39.097131Z",
     "start_time": "2025-05-02T11:50:39.090121Z"
    }
   },
   "cell_type": "code",
   "source": [
    "batch_size = 32\n",
    "train_loader = DataLoader(train_data, batch_size=batch_size, shuffle=True)\n",
    "val_loader = DataLoader(val_data, batch_size=batch_size, shuffle=False)\n",
    "test_loader = DataLoader(test_data, batch_size=batch_size, shuffle=False)\n"
   ],
   "id": "b6981347e5d5a52d",
   "outputs": [],
   "execution_count": 43
  },
  {
   "metadata": {
    "ExecuteTime": {
     "end_time": "2025-05-02T11:50:53.783971Z",
     "start_time": "2025-05-02T11:50:53.779321Z"
    }
   },
   "cell_type": "code",
   "source": [
    "dataloaders = {}\n",
    "dataset_sizes = {}\n",
    "\n",
    "dataloaders['train'] = train_loader\n",
    "dataloaders['val'] = val_loader\n",
    "dataloaders['test'] = test_loader\n",
    "\n",
    "dataset_sizes['train'] = len(train_data)\n",
    "dataset_sizes['val'] = len(val_data)"
   ],
   "id": "41503d58af5b6db2",
   "outputs": [],
   "execution_count": 44
  },
  {
   "metadata": {
    "ExecuteTime": {
     "end_time": "2025-05-02T11:50:55.634513Z",
     "start_time": "2025-05-02T11:50:55.446129Z"
    }
   },
   "cell_type": "code",
   "source": [
    "device = torch.device(\"cuda\" if torch.cuda.is_available() else \"cpu\")\n",
    "# ResNet18\n",
    "network = models.resnet18(weights='DEFAULT')\n",
    "nf = network.fc.in_features\n",
    "network.fc = nn.Linear(nf, 2)\n",
    "network = network.to(device)"
   ],
   "id": "72b91a7187a97c07",
   "outputs": [],
   "execution_count": 45
  },
  {
   "metadata": {
    "ExecuteTime": {
     "end_time": "2025-05-02T12:08:02.047077Z",
     "start_time": "2025-05-02T12:08:02.038085Z"
    }
   },
   "cell_type": "code",
   "source": [
    "def train_network(network, dataloaders, dataset_sizes, criterion, optimizer, num_epochs=25):\n",
    "\n",
    "    train_losses = []\n",
    "    train_accuracies = []\n",
    "    val_losses = []\n",
    "    val_accuracies = []\n",
    "\n",
    "    with TemporaryDirectory() as tempdir:\n",
    "        best_network_params_path = os.path.join(tempdir, 'best_network_params.pt')\n",
    "\n",
    "        torch.save(network.state_dict(), best_network_params_path)\n",
    "        best_acc = 0.0\n",
    "\n",
    "        for epoch in range(num_epochs):\n",
    "            print(f'Epoch {epoch + 1}/{num_epochs}')\n",
    "            print('-' * 10)\n",
    "\n",
    "            for phase in ['train', 'val']:\n",
    "                if phase == 'train':\n",
    "                    network.train()\n",
    "                else:\n",
    "                    network.eval()\n",
    "\n",
    "                running_loss = 0.0\n",
    "                running_corrects = 0\n",
    "\n",
    "                for X, Y in dataloaders[phase]:\n",
    "                    X = X.to(device)\n",
    "                    Y = Y.to(device)\n",
    "\n",
    "                    optimizer.zero_grad()\n",
    "\n",
    "                    # forward\n",
    "                    with torch.set_grad_enabled(phase == 'train'):\n",
    "                        S = network(X)\n",
    "                        _, P = torch.max(S, 1)\n",
    "                        loss = criterion(S, Y)\n",
    "\n",
    "                        # backward + optimize only if in training phase\n",
    "                        if phase == 'train':\n",
    "                            loss.backward()\n",
    "                            optimizer.step()\n",
    "\n",
    "                    # statistics\n",
    "                    running_loss += loss.item() * X.size(0)\n",
    "                    running_corrects += torch.sum(P == Y.data)\n",
    "\n",
    "                epoch_loss = running_loss / dataset_sizes[phase]\n",
    "                epoch_acc = running_corrects.double() / dataset_sizes[phase]\n",
    "\n",
    "                if phase == 'train':\n",
    "                    train_losses.append(epoch_loss)\n",
    "                    train_accuracies.append(epoch_acc.item())\n",
    "                else:\n",
    "                    val_losses.append(epoch_loss)\n",
    "                    val_accuracies.append(epoch_acc.item())\n",
    "\n",
    "                print(f'{phase} Loss: {epoch_loss:.4f} Acc: {epoch_acc:.4f}')\n",
    "\n",
    "                # deep copy the model\n",
    "                if phase == 'val' and epoch_acc > best_acc:\n",
    "                    best_acc = epoch_acc\n",
    "                    torch.save(network.state_dict(), best_network_params_path)\n",
    "\n",
    "            print()\n",
    "\n",
    "        print(f'Best val Acc: {best_acc:4f}')\n",
    "\n",
    "        network.load_state_dict(torch.load(best_network_params_path, weights_only=True))\n",
    "    return network, train_losses, val_losses, train_accuracies, val_accuracies"
   ],
   "id": "d5dcf515323571c0",
   "outputs": [],
   "execution_count": 54
  },
  {
   "metadata": {
    "ExecuteTime": {
     "end_time": "2025-05-02T12:08:27.126364Z",
     "start_time": "2025-05-02T12:08:27.121461Z"
    }
   },
   "cell_type": "code",
   "source": [
    "def compute_accuracy(network, loader, print_result=True):\n",
    "    network.eval()\n",
    "    correct = 0\n",
    "    total = 0\n",
    "\n",
    "    with torch.no_grad():\n",
    "        for X, Y in loader:\n",
    "            X, Y = X.to(device), Y.to(device)\n",
    "            S = network(X)\n",
    "            _, P = torch.max(S, 1)\n",
    "            correct += (P == Y).sum().item()\n",
    "            total += Y.size(0)\n",
    "\n",
    "    acc = 100 * correct / total\n",
    "    if print_result:\n",
    "        print(f\"Test Accuracy: {acc:.2f}%\")\n",
    "    return acc"
   ],
   "id": "c12c171e7ac4cab0",
   "outputs": [],
   "execution_count": 55
  },
  {
   "metadata": {
    "ExecuteTime": {
     "end_time": "2025-05-02T12:08:28.552107Z",
     "start_time": "2025-05-02T12:08:28.546457Z"
    }
   },
   "cell_type": "code",
   "source": [
    "criterion = nn.CrossEntropyLoss()\n",
    "optimizer = optim.Adam(network.parameters(), lr=1e-4)"
   ],
   "id": "98d21dbcfa1a6a8e",
   "outputs": [],
   "execution_count": 56
  },
  {
   "metadata": {
    "ExecuteTime": {
     "end_time": "2025-05-02T12:19:22.161337Z",
     "start_time": "2025-05-02T12:08:36.603934Z"
    }
   },
   "cell_type": "code",
   "source": [
    "# Running for 25 epochs\n",
    "network, train_losses, val_losses, train_accuracies, val_accuracies = train_network(\n",
    "    network, dataloaders, dataset_sizes, criterion, optimizer, num_epochs=25\n",
    ")"
   ],
   "id": "11eb39d6f2d80808",
   "outputs": [
    {
     "name": "stdout",
     "output_type": "stream",
     "text": [
      "Epoch 1/25\n",
      "----------\n",
      "train Loss: 0.0042 Acc: 0.9986\n",
      "val Loss: 0.0478 Acc: 0.9823\n",
      "\n",
      "Epoch 2/25\n",
      "----------\n",
      "train Loss: 0.0054 Acc: 0.9980\n",
      "val Loss: 0.0629 Acc: 0.9783\n",
      "\n",
      "Epoch 3/25\n",
      "----------\n",
      "train Loss: 0.0122 Acc: 0.9959\n",
      "val Loss: 0.0736 Acc: 0.9783\n",
      "\n",
      "Epoch 4/25\n",
      "----------\n",
      "train Loss: 0.0095 Acc: 0.9976\n",
      "val Loss: 0.0795 Acc: 0.9755\n",
      "\n",
      "Epoch 5/25\n",
      "----------\n",
      "train Loss: 0.0029 Acc: 0.9990\n",
      "val Loss: 0.0473 Acc: 0.9837\n",
      "\n",
      "Epoch 6/25\n",
      "----------\n",
      "train Loss: 0.0020 Acc: 0.9993\n",
      "val Loss: 0.0521 Acc: 0.9851\n",
      "\n",
      "Epoch 7/25\n",
      "----------\n",
      "train Loss: 0.0043 Acc: 0.9990\n",
      "val Loss: 0.1158 Acc: 0.9728\n",
      "\n",
      "Epoch 8/25\n",
      "----------\n",
      "train Loss: 0.0106 Acc: 0.9969\n",
      "val Loss: 0.1197 Acc: 0.9715\n",
      "\n",
      "Epoch 9/25\n",
      "----------\n",
      "train Loss: 0.0122 Acc: 0.9963\n",
      "val Loss: 0.0496 Acc: 0.9851\n",
      "\n",
      "Epoch 10/25\n",
      "----------\n",
      "train Loss: 0.0012 Acc: 0.9997\n",
      "val Loss: 0.0395 Acc: 0.9864\n",
      "\n",
      "Epoch 11/25\n",
      "----------\n",
      "train Loss: 0.0011 Acc: 1.0000\n",
      "val Loss: 0.0344 Acc: 0.9878\n",
      "\n",
      "Epoch 12/25\n",
      "----------\n",
      "train Loss: 0.0003 Acc: 1.0000\n",
      "val Loss: 0.0354 Acc: 0.9891\n",
      "\n",
      "Epoch 13/25\n",
      "----------\n",
      "train Loss: 0.0002 Acc: 1.0000\n",
      "val Loss: 0.0321 Acc: 0.9878\n",
      "\n",
      "Epoch 14/25\n",
      "----------\n",
      "train Loss: 0.0002 Acc: 1.0000\n",
      "val Loss: 0.0356 Acc: 0.9905\n",
      "\n",
      "Epoch 15/25\n",
      "----------\n",
      "train Loss: 0.0001 Acc: 1.0000\n",
      "val Loss: 0.0328 Acc: 0.9891\n",
      "\n",
      "Epoch 16/25\n",
      "----------\n",
      "train Loss: 0.0001 Acc: 1.0000\n",
      "val Loss: 0.0331 Acc: 0.9878\n",
      "\n",
      "Epoch 17/25\n",
      "----------\n",
      "train Loss: 0.0001 Acc: 1.0000\n",
      "val Loss: 0.0341 Acc: 0.9878\n",
      "\n",
      "Epoch 18/25\n",
      "----------\n",
      "train Loss: 0.0001 Acc: 1.0000\n",
      "val Loss: 0.0336 Acc: 0.9891\n",
      "\n",
      "Epoch 19/25\n",
      "----------\n",
      "train Loss: 0.0004 Acc: 1.0000\n",
      "val Loss: 0.0332 Acc: 0.9878\n",
      "\n",
      "Epoch 20/25\n",
      "----------\n",
      "train Loss: 0.0001 Acc: 1.0000\n",
      "val Loss: 0.0333 Acc: 0.9905\n",
      "\n",
      "Epoch 21/25\n",
      "----------\n",
      "train Loss: 0.0000 Acc: 1.0000\n",
      "val Loss: 0.0332 Acc: 0.9905\n",
      "\n",
      "Epoch 22/25\n",
      "----------\n",
      "train Loss: 0.0002 Acc: 1.0000\n",
      "val Loss: 0.0384 Acc: 0.9878\n",
      "\n",
      "Epoch 23/25\n",
      "----------\n",
      "train Loss: 0.0000 Acc: 1.0000\n",
      "val Loss: 0.0366 Acc: 0.9891\n",
      "\n",
      "Epoch 24/25\n",
      "----------\n",
      "train Loss: 0.0000 Acc: 1.0000\n",
      "val Loss: 0.0359 Acc: 0.9891\n",
      "\n",
      "Epoch 25/25\n",
      "----------\n",
      "train Loss: 0.0000 Acc: 1.0000\n",
      "val Loss: 0.0362 Acc: 0.9891\n",
      "\n",
      "Best val Acc: 0.990489\n"
     ]
    }
   ],
   "execution_count": 57
  },
  {
   "metadata": {
    "ExecuteTime": {
     "end_time": "2025-05-02T12:43:48.473953Z",
     "start_time": "2025-05-02T12:43:48.255739Z"
    }
   },
   "cell_type": "code",
   "source": [
    "import matplotlib.pyplot as plt\n",
    "\n",
    "plt.figure(facecolor='white')\n",
    "plt.plot(train_losses, label='Train Loss')\n",
    "plt.plot(val_losses, label='Validation Loss')\n",
    "plt.legend()\n",
    "plt.xlabel('Epoch')\n",
    "plt.ylabel('Loss')\n",
    "plt.title('Loss over epochs')\n",
    "plt.show()\n",
    "\n",
    "plt.figure(facecolor='white')\n",
    "plt.plot(train_accuracies, label='Train Accuracy')\n",
    "plt.plot(val_accuracies, label='Validation Accuracy')\n",
    "plt.legend()\n",
    "plt.xlabel('Epoch')\n",
    "plt.ylabel('Accuracy')\n",
    "plt.ylim([0.9, 1.02])\n",
    "plt.title('Accuracy over epochs')\n",
    "plt.show()"
   ],
   "id": "f41b5c7346cd86a",
   "outputs": [
    {
     "data": {
      "text/plain": [
       "<Figure size 640x480 with 1 Axes>"
      ],
      "image/png": "[encoded data removed]"
     },
     "metadata": {},
     "output_type": "display_data"
    },
    {
     "data": {
      "text/plain": [
       "<Figure size 640x480 with 1 Axes>"
      ],
      "image/png": "[encoded data removed]"
     },
     "metadata": {},
     "output_type": "display_data"
    }
   ],
   "execution_count": 64
  },
  {
   "metadata": {
    "ExecuteTime": {
     "end_time": "2025-05-02T12:29:43.197962Z",
     "start_time": "2025-05-02T12:28:52.789920Z"
    }
   },
   "cell_type": "code",
   "source": "compute_accuracy(network, test_loader)",
   "id": "c441cf68597d3b0e",
   "outputs": [
    {
     "name": "stdout",
     "output_type": "stream",
     "text": [
      "Test Accuracy: 98.72%\n"
     ]
    },
    {
     "data": {
      "text/plain": [
       "98.71899700190788"
      ]
     },
     "execution_count": 59,
     "metadata": {},
     "output_type": "execute_result"
    }
   ],
   "execution_count": 59
  },
  {
   "metadata": {},
   "cell_type": "code",
   "outputs": [],
   "execution_count": null,
   "source": "",
   "id": "c5835050d7c3d976"
  }
 ],
 "metadata": {
  "kernelspec": {
   "display_name": "Python 3",
   "language": "python",
   "name": "python3"
  },
  "language_info": {
   "codemirror_mode": {
    "name": "ipython",
    "version": 2
   },
   "file_extension": ".py",
   "mimetype": "text/x-python",
   "name": "python",
   "nbconvert_exporter": "python",
   "pygments_lexer": "ipython2",
   "version": "2.7.6"
  }
 },
 "nbformat": 4,
 "nbformat_minor": 5
}
