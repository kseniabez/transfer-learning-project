{
 "cells": [
  {
   "cell_type": "code",
   "id": "initial_id",
   "metadata": {
    "collapsed": true,
    "ExecuteTime": {
     "end_time": "2025-05-01T18:30:30.919793Z",
     "start_time": "2025-05-01T18:30:30.915039Z"
    }
   },
   "source": [
    "import torch\n",
    "import torch.nn as nn\n",
    "import torch.optim as optim\n",
    "from torch.utils.data import DataLoader\n",
    "from torchvision import transforms, datasets, models\n",
    "from torch.utils.data import random_split"
   ],
   "outputs": [],
   "execution_count": 15
  },
  {
   "metadata": {
    "ExecuteTime": {
     "end_time": "2025-05-01T18:30:37.770402Z",
     "start_time": "2025-05-01T18:30:37.766535Z"
    }
   },
   "cell_type": "code",
   "source": "data_root = \"datasets\"",
   "id": "b7d07f735d6ce8d3",
   "outputs": [],
   "execution_count": 16
  },
  {
   "metadata": {
    "ExecuteTime": {
     "end_time": "2025-05-01T18:30:38.316859Z",
     "start_time": "2025-05-01T18:30:38.311789Z"
    }
   },
   "cell_type": "code",
   "source": [
    "# for ResNet18:\n",
    "transform = transforms.Compose([\n",
    "    transforms.Resize((224, 224)),\n",
    "    transforms.ToTensor(),\n",
    "    transforms.Normalize(mean=[0.485, 0.456, 0.406],\n",
    "                         std=[0.229, 0.224, 0.225]),\n",
    "])"
   ],
   "id": "d822d2ee3a2ca1aa",
   "outputs": [],
   "execution_count": 17
  },
  {
   "metadata": {
    "ExecuteTime": {
     "end_time": "2025-05-01T18:30:39.421851Z",
     "start_time": "2025-05-01T18:30:39.382675Z"
    }
   },
   "cell_type": "code",
   "source": [
    "trainval_data = datasets.OxfordIIITPet(\n",
    "        root=data_root,\n",
    "        split='trainval',\n",
    "        target_types='binary-category',\n",
    "        transform=transform,\n",
    "        download=False\n",
    "    )\n",
    "test_data = datasets.OxfordIIITPet(\n",
    "        root=data_root,\n",
    "        split='test',\n",
    "        target_types='binary-category',\n",
    "        transform=transform,\n",
    "        download=False\n",
    "    )"
   ],
   "id": "666abda14682e0ac",
   "outputs": [],
   "execution_count": 18
  },
  {
   "metadata": {
    "ExecuteTime": {
     "end_time": "2025-05-01T18:30:42.812544Z",
     "start_time": "2025-05-01T18:30:42.806299Z"
    }
   },
   "cell_type": "code",
   "source": [
    "val_ratio = 0.1  # 10% for validation\n",
    "train_size = int((1 - val_ratio) * len(trainval_data))\n",
    "val_size = len(trainval_data) - train_size\n",
    "\n",
    "train_data, val_data = random_split(trainval_data, [train_size, val_size])"
   ],
   "id": "4c91e21781a76757",
   "outputs": [],
   "execution_count": 19
  },
  {
   "metadata": {
    "ExecuteTime": {
     "end_time": "2025-05-01T18:55:49.038600Z",
     "start_time": "2025-05-01T18:55:49.032631Z"
    }
   },
   "cell_type": "code",
   "source": "len(val_data), len(train_data), len(test_data)",
   "id": "d5da3fd74362f472",
   "outputs": [
    {
     "data": {
      "text/plain": [
       "(368, 3312, 3669)"
      ]
     },
     "execution_count": 56,
     "metadata": {},
     "output_type": "execute_result"
    }
   ],
   "execution_count": 56
  },
  {
   "metadata": {
    "ExecuteTime": {
     "end_time": "2025-05-01T18:56:12.379844Z",
     "start_time": "2025-05-01T18:56:12.375240Z"
    }
   },
   "cell_type": "code",
   "source": [
    "batch_size = 32\n",
    "train_loader = DataLoader(train_data, batch_size=batch_size, shuffle=True)\n",
    "val_loader = DataLoader(train_data, batch_size=batch_size, shuffle=False)\n",
    "test_loader = DataLoader(test_data, batch_size=batch_size, shuffle=False)"
   ],
   "id": "b6981347e5d5a52d",
   "outputs": [],
   "execution_count": 57
  },
  {
   "metadata": {
    "ExecuteTime": {
     "end_time": "2025-05-01T18:56:14.190267Z",
     "start_time": "2025-05-01T18:56:13.991615Z"
    }
   },
   "cell_type": "code",
   "source": [
    "device = torch.device(\"cuda\" if torch.cuda.is_available() else \"cpu\")\n",
    "# ResNet18\n",
    "network = models.resnet18(weights='DEFAULT')\n",
    "nf = network.fc.in_features\n",
    "network.fc = nn.Linear(nf, 2)\n",
    "network = network.to(device)"
   ],
   "id": "72b91a7187a97c07",
   "outputs": [],
   "execution_count": 58
  },
  {
   "metadata": {
    "ExecuteTime": {
     "end_time": "2025-05-01T18:59:09.898743Z",
     "start_time": "2025-05-01T18:59:09.891715Z"
    }
   },
   "cell_type": "code",
   "source": [
    "def train_network(network, loader, criterion, optimizer, n_epochs, val_loader=None):\n",
    "    network.train()\n",
    "\n",
    "    for epoch in range(n_epochs):\n",
    "        running_loss = 0.0\n",
    "        correct = 0\n",
    "        total = 0\n",
    "\n",
    "        for X_batch, Y_batch in loader:\n",
    "            X_batch, Y_batch = X_batch.to(device), Y_batch.to(device)\n",
    "\n",
    "            optimizer.zero_grad()\n",
    "            S = network(X_batch)\n",
    "            loss = criterion(S, Y_batch)\n",
    "            loss.backward()\n",
    "            optimizer.step()\n",
    "\n",
    "            running_loss += loss.item()\n",
    "            _, P = torch.max(S, 1)\n",
    "            correct += (P == Y_batch).sum().item()\n",
    "            total += Y_batch.size(0)\n",
    "\n",
    "        acc = 100 * correct / total\n",
    "        val_loss, val_acc = compute_val_metrics(network, val_loader, criterion)\n",
    "        print(f\"[Epoch {epoch+1}/{n_epochs}] Train Running Loss: {running_loss:.4f}, Train Accuracy: {acc:.2f}% | \"\n",
    "              f\"Val Loss: {val_loss:.4f}, Val Accuracy: {val_acc:.2f}%\")\n"
   ],
   "id": "d5dcf515323571c0",
   "outputs": [],
   "execution_count": 59
  },
  {
   "metadata": {
    "ExecuteTime": {
     "end_time": "2025-05-01T18:59:10.907962Z",
     "start_time": "2025-05-01T18:59:10.901560Z"
    }
   },
   "cell_type": "code",
   "source": [
    "def compute_val_metrics(network, loader, criterion):\n",
    "    network.eval()\n",
    "    val_loss = 0.0\n",
    "    correct = 0\n",
    "    total = 0\n",
    "\n",
    "    with torch.no_grad():\n",
    "        for X_batch, Y_batch in loader:\n",
    "            X_batch, Y_batch = X_batch.to(device), Y_batch.to(device)\n",
    "            S = network(X_batch)\n",
    "            loss = criterion(S, Y_batch)\n",
    "            val_loss += loss.item()\n",
    "            _, P = torch.max(S, 1)\n",
    "            correct += (P == Y_batch).sum().item()\n",
    "            total += Y_batch.size(0)\n",
    "\n",
    "    avg_loss = val_loss / len(loader)\n",
    "    accuracy = 100 * correct / total\n",
    "    return avg_loss, accuracy"
   ],
   "id": "5257a2594e23d561",
   "outputs": [],
   "execution_count": 60
  },
  {
   "metadata": {
    "ExecuteTime": {
     "end_time": "2025-05-01T18:59:11.983757Z",
     "start_time": "2025-05-01T18:59:11.978647Z"
    }
   },
   "cell_type": "code",
   "source": [
    "def compute_accuracy(network, loader, print_result=True):\n",
    "    network.eval()\n",
    "    correct = 0\n",
    "    total = 0\n",
    "\n",
    "    with torch.no_grad():\n",
    "        for X_batch, Y_batch in loader:\n",
    "            X_batch, Y_batch = X_batch.to(device), Y_batch.to(device)\n",
    "            S = network(X_batch)\n",
    "            _, P = torch.max(S, 1)\n",
    "            correct += (P == Y_batch).sum().item()\n",
    "            total += Y_batch.size(0)\n",
    "\n",
    "    acc = 100 * correct / total\n",
    "    if print_result:\n",
    "        print(f\"Test Accuracy: {acc:.2f}%\")\n",
    "    return acc"
   ],
   "id": "c12c171e7ac4cab0",
   "outputs": [],
   "execution_count": 61
  },
  {
   "metadata": {
    "ExecuteTime": {
     "end_time": "2025-05-01T19:05:51.224363Z",
     "start_time": "2025-05-01T19:05:51.217792Z"
    }
   },
   "cell_type": "code",
   "source": [
    "criterion = nn.CrossEntropyLoss()\n",
    "optimizer = optim.Adam(network.parameters(), lr=1e-4)"
   ],
   "id": "98d21dbcfa1a6a8e",
   "outputs": [],
   "execution_count": 65
  },
  {
   "metadata": {
    "ExecuteTime": {
     "end_time": "2025-05-01T19:09:36.967648Z",
     "start_time": "2025-05-01T19:08:52.063075Z"
    }
   },
   "cell_type": "code",
   "source": [
    "# Running for 1 epoch\n",
    "train_network(network, train_loader, criterion, optimizer, 1, val_loader)"
   ],
   "id": "11eb39d6f2d80808",
   "outputs": [
    {
     "name": "stdout",
     "output_type": "stream",
     "text": [
      "[Epoch 1/1] Train Running Loss: 0.3426, Train Accuracy: 99.94% | Val Loss: 0.0002, Val Accuracy: 100.00%\n"
     ]
    }
   ],
   "execution_count": 68
  },
  {
   "metadata": {
    "ExecuteTime": {
     "end_time": "2025-05-01T19:10:01.495058Z",
     "start_time": "2025-05-01T19:09:37.053871Z"
    }
   },
   "cell_type": "code",
   "source": "compute_accuracy(network, test_loader)",
   "id": "c441cf68597d3b0e",
   "outputs": [
    {
     "name": "stdout",
     "output_type": "stream",
     "text": [
      "Test Accuracy: 98.96%\n"
     ]
    },
    {
     "data": {
      "text/plain": [
       "98.96429544835105"
      ]
     },
     "execution_count": 69,
     "metadata": {},
     "output_type": "execute_result"
    }
   ],
   "execution_count": 69
  },
  {
   "metadata": {},
   "cell_type": "code",
   "outputs": [],
   "execution_count": null,
   "source": "",
   "id": "c5835050d7c3d976"
  }
 ],
 "metadata": {
  "kernelspec": {
   "display_name": "Python 3",
   "language": "python",
   "name": "python3"
  },
  "language_info": {
   "codemirror_mode": {
    "name": "ipython",
    "version": 2
   },
   "file_extension": ".py",
   "mimetype": "text/x-python",
   "name": "python",
   "nbconvert_exporter": "python",
   "pygments_lexer": "ipython2",
   "version": "2.7.6"
  }
 },
 "nbformat": 4,
 "nbformat_minor": 5
}
